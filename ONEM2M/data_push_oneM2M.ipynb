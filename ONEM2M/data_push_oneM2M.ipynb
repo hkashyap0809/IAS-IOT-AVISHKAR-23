{
 "cells": [
  {
   "cell_type": "markdown",
   "id": "b3676fdd",
   "metadata": {},
   "source": [
    "# Install required Packages"
   ]
  },
  {
   "cell_type": "code",
   "execution_count": 1,
   "id": "83d3b998",
   "metadata": {},
   "outputs": [],
   "source": [
    "#pip install requests"
   ]
  },
  {
   "cell_type": "code",
   "execution_count": 2,
   "id": "cfd48219",
   "metadata": {},
   "outputs": [],
   "source": [
    "#pip install matplotlib"
   ]
  },
  {
   "cell_type": "code",
   "execution_count": 3,
   "id": "0c17e516",
   "metadata": {},
   "outputs": [],
   "source": [
    "#pip install pandas"
   ]
  },
  {
   "cell_type": "code",
   "execution_count": 4,
   "id": "54a45abd",
   "metadata": {},
   "outputs": [],
   "source": [
    "#pip install numpy"
   ]
  },
  {
   "cell_type": "code",
   "execution_count": 5,
   "id": "cbabec48",
   "metadata": {},
   "outputs": [],
   "source": [
    "#pip install progressbar"
   ]
  },
  {
   "cell_type": "markdown",
   "id": "059296fc",
   "metadata": {},
   "source": [
    "# Import Required packages"
   ]
  },
  {
   "cell_type": "code",
   "execution_count": 6,
   "id": "8c6722c2",
   "metadata": {},
   "outputs": [],
   "source": [
    "import os"
   ]
  },
  {
   "cell_type": "code",
   "execution_count": 7,
   "id": "801aa4fc",
   "metadata": {},
   "outputs": [],
   "source": [
    "import time"
   ]
  },
  {
   "cell_type": "code",
   "execution_count": 8,
   "id": "894c8447",
   "metadata": {},
   "outputs": [],
   "source": [
    "import math"
   ]
  },
  {
   "cell_type": "code",
   "execution_count": 9,
   "id": "3455d9c1",
   "metadata": {},
   "outputs": [],
   "source": [
    "import json"
   ]
  },
  {
   "cell_type": "code",
   "execution_count": 10,
   "id": "fa79cc0e",
   "metadata": {},
   "outputs": [],
   "source": [
    "import random"
   ]
  },
  {
   "cell_type": "code",
   "execution_count": 11,
   "id": "358ae0be",
   "metadata": {},
   "outputs": [],
   "source": [
    "import threading"
   ]
  },
  {
   "cell_type": "code",
   "execution_count": 12,
   "id": "b54e6e56",
   "metadata": {},
   "outputs": [],
   "source": [
    "import requests"
   ]
  },
  {
   "cell_type": "code",
   "execution_count": 13,
   "id": "06000590",
   "metadata": {},
   "outputs": [],
   "source": [
    "from IPython.display import clear_output"
   ]
  },
  {
   "cell_type": "markdown",
   "id": "c203dab6",
   "metadata": {},
   "source": [
    "# Default Running Constants"
   ]
  },
  {
   "cell_type": "code",
   "execution_count": 14,
   "id": "1579e39c",
   "metadata": {},
   "outputs": [],
   "source": [
    "data_frequency = 0.1 #3 seconds"
   ]
  },
  {
   "cell_type": "code",
   "execution_count": 15,
   "id": "b2adf519",
   "metadata": {},
   "outputs": [],
   "source": [
    "no_of_params = 3 #3 parameters-TimeStamp, Occupancy State, Distance"
   ]
  },
  {
   "cell_type": "markdown",
   "id": "fbcf8e64",
   "metadata": {},
   "source": [
    "# Create Resource Tree"
   ]
  },
  {
   "cell_type": "code",
   "execution_count": 16,
   "id": "9f866bb7",
   "metadata": {},
   "outputs": [
    {
     "name": "stdout",
     "output_type": "stream",
     "text": [
      "Return code : 201\n",
      "Return Content : {\n",
      "   \"m2m:ae\" : {\n",
      "      \"rn\" : \"AE-TEST\",\n",
      "      \"ty\" : 2,\n",
      "      \"ri\" : \"/in-cse/CAE488503232\",\n",
      "      \"pi\" : \"/in-cse\",\n",
      "      \"ct\" : \"20230312T180104\",\n",
      "      \"lt\" : \"20230312T180104\",\n",
      "      \"lbl\" : [ \"Label-1\", \"Label-2\" ],\n",
      "      \"acpi\" : [ \"/in-cse/acp-116573027\" ],\n",
      "      \"et\" : \"20240312T180104\",\n",
      "      \"api\" : \"acp_admin\",\n",
      "      \"aei\" : \"CAE488503232\",\n",
      "      \"rr\" : true\n",
      "   }\n",
      "}\n",
      "Return code : 201\n",
      "Return Content : {\n",
      "   \"m2m:cnt\" : {\n",
      "      \"rn\" : \"Node-1\",\n",
      "      \"ty\" : 3,\n",
      "      \"ri\" : \"/in-cse/cnt-320469540\",\n",
      "      \"pi\" : \"/in-cse/CAE488503232\",\n",
      "      \"ct\" : \"20230312T180104\",\n",
      "      \"lt\" : \"20230312T180104\",\n",
      "      \"lbl\" : [ \"CNT-Label-1\", \"CNT-Label-2\" ],\n",
      "      \"acpi\" : [ \"/in-cse/acp-116573027\" ],\n",
      "      \"et\" : \"20240312T180104\",\n",
      "      \"st\" : 0,\n",
      "      \"mni\" : 120,\n",
      "      \"mbs\" : 10000,\n",
      "      \"mia\" : 0,\n",
      "      \"cni\" : 0,\n",
      "      \"cbs\" : 0,\n",
      "      \"ol\" : \"/in-cse/in-name/AE-TEST/Node-1/ol\",\n",
      "      \"la\" : \"/in-cse/in-name/AE-TEST/Node-1/la\"\n",
      "   }\n",
      "}\n",
      "Return code : 201\n",
      "Return Content : {\n",
      "   \"m2m:cnt\" : {\n",
      "      \"rn\" : \"Descriptor\",\n",
      "      \"ty\" : 3,\n",
      "      \"ri\" : \"/in-cse/cnt-520025482\",\n",
      "      \"pi\" : \"/in-cse/cnt-320469540\",\n",
      "      \"ct\" : \"20230312T180104\",\n",
      "      \"lt\" : \"20230312T180104\",\n",
      "      \"lbl\" : [ \"CNT-Label-1\", \"CNT-Label-2\" ],\n",
      "      \"acpi\" : [ \"/in-cse/acp-116573027\" ],\n",
      "      \"et\" : \"20240312T180104\",\n",
      "      \"st\" : 0,\n",
      "      \"mni\" : 120,\n",
      "      \"mbs\" : 10000,\n",
      "      \"mia\" : 0,\n",
      "      \"cni\" : 0,\n",
      "      \"cbs\" : 0,\n",
      "      \"ol\" : \"/in-cse/in-name/AE-TEST/Node-1/Descriptor/ol\",\n",
      "      \"la\" : \"/in-cse/in-name/AE-TEST/Node-1/Descriptor/la\"\n",
      "   }\n",
      "}\n",
      "Return code : 201\n",
      "Return Content : {\n",
      "   \"m2m:cnt\" : {\n",
      "      \"rn\" : \"Data\",\n",
      "      \"ty\" : 3,\n",
      "      \"ri\" : \"/in-cse/cnt-717746639\",\n",
      "      \"pi\" : \"/in-cse/cnt-320469540\",\n",
      "      \"ct\" : \"20230312T180104\",\n",
      "      \"lt\" : \"20230312T180104\",\n",
      "      \"lbl\" : [ \"CNT-Label-1\", \"CNT-Label-2\" ],\n",
      "      \"acpi\" : [ \"/in-cse/acp-116573027\" ],\n",
      "      \"et\" : \"20240312T180104\",\n",
      "      \"st\" : 0,\n",
      "      \"mni\" : 120,\n",
      "      \"mbs\" : 10000,\n",
      "      \"mia\" : 0,\n",
      "      \"cni\" : 0,\n",
      "      \"cbs\" : 0,\n",
      "      \"ol\" : \"/in-cse/in-name/AE-TEST/Node-1/Data/ol\",\n",
      "      \"la\" : \"/in-cse/in-name/AE-TEST/Node-1/Data/la\"\n",
      "   }\n",
      "}\n",
      "Return code : 201\n",
      "Return Content : {\n",
      "   \"m2m:cin\" : {\n",
      "      \"rn\" : \"cin_393687148\",\n",
      "      \"ty\" : 4,\n",
      "      \"ri\" : \"/in-cse/cin-393687148\",\n",
      "      \"pi\" : \"/in-cse/cnt-520025482\",\n",
      "      \"ct\" : \"20230312T180104\",\n",
      "      \"lt\" : \"20230312T180104\",\n",
      "      \"lbl\" : [ \"CIN-Label-1\", \"CIN-Label-2\" ],\n",
      "      \"st\" : 0,\n",
      "      \"cnf\" : \"text\",\n",
      "      \"cs\" : 38,\n",
      "      \"con\" : \"[Timestamp, Occupancy-State, Distance]\"\n",
      "   }\n",
      "}\n",
      "Return code : 201\n",
      "Return Content : {\n",
      "   \"m2m:cin\" : {\n",
      "      \"rn\" : \"cin_762167920\",\n",
      "      \"ty\" : 4,\n",
      "      \"ri\" : \"/in-cse/cin-762167920\",\n",
      "      \"pi\" : \"/in-cse/cnt-717746639\",\n",
      "      \"ct\" : \"20230312T180104\",\n",
      "      \"lt\" : \"20230312T180104\",\n",
      "      \"lbl\" : [ \"CIN-Label-1\", \"CIN-Label-2\" ],\n",
      "      \"st\" : 0,\n",
      "      \"cnf\" : \"text\",\n",
      "      \"cs\" : 1,\n",
      "      \"con\" : \"0\"\n",
      "   }\n",
      "}\n"
     ]
    }
   ],
   "source": [
    "%run -i \"../../python_codes/create_resource_tree.py\""
   ]
  },
  {
   "cell_type": "markdown",
   "id": "989c13a0",
   "metadata": {},
   "source": [
    "# Mock-Device"
   ]
  },
  {
   "cell_type": "markdown",
   "id": "d80041bc",
   "metadata": {},
   "source": [
    "## Subscribe DataWareHouse to OM2M"
   ]
  },
  {
   "cell_type": "code",
   "execution_count": 17,
   "id": "1109d453",
   "metadata": {},
   "outputs": [
    {
     "data": {
      "text/plain": [
       "'Error during the verification request'"
      ]
     },
     "execution_count": 17,
     "metadata": {},
     "output_type": "execute_result"
    }
   ],
   "source": [
    "url = 'http://127.0.0.1:5089/~/in-cse/in-name/AE-TEST/Node-1/Data'\n",
    "headers = {\n",
    "      'X-M2M-Origin': 'admin:admin',\n",
    "      'Content-Type': 'application/json;ty=23'\n",
    "    } \n",
    "payload = {\n",
    "        \"m2m:sub\": {\n",
    "            \"rn\": \"Sub-DW\",\n",
    "            \"nct\": 2,\n",
    "            \"nu\": \"http://localhost:5091/\"\n",
    "        }\n",
    "    }\n",
    "\n",
    "response = requests.request(\"POST\", url, headers=headers, json=payload)\n",
    "response.text"
   ]
  },
  {
   "cell_type": "code",
   "execution_count": 18,
   "id": "16056a25",
   "metadata": {},
   "outputs": [],
   "source": [
    "def post_random_data():\n",
    "    \n",
    "    _data_cin = [int(time.time()), random.randint(0, 1)]\n",
    "    \n",
    "    for count in range(no_of_params-2):\n",
    "        _data_cin.append(random.randint(1, 400))\n",
    "    \n",
    "    url = 'http://127.0.0.1:5089/~/in-cse/in-name/AE-TEST/Node-1/Data'\n",
    "    headers = {\n",
    "      'X-M2M-Origin': 'admin:admin',\n",
    "      'Content-Type': 'application/json;ty=4'\n",
    "    } \n",
    "    payload = {\n",
    "        \"m2m:cin\": {\n",
    "            \"con\": \"{}\".format(_data_cin),\n",
    "            \"lbl\": [\"Node-1\"],\n",
    "            \"cnf\": \"text\"\n",
    "        }\n",
    "    }\n",
    "\n",
    "    response = requests.request(\"POST\", url, headers=headers, json=payload)\n",
    "    print(response.text)\n",
    "    return response.status_code\n"
   ]
  },
  {
   "cell_type": "code",
   "execution_count": 19,
   "id": "778f3f8d",
   "metadata": {},
   "outputs": [],
   "source": [
    "def run():\n",
    "    publish_count = 0\n",
    "    while True:\n",
    "        status_code = post_random_data()\n",
    "        if status_code == 201:\n",
    "            publish_count += 1\n",
    "            print(\"Data publishing at \" + str(data_frequency) + \"-second frequency\")\n",
    "            print(\"Publish Successful\")\n",
    "            print(\"Number of data point published = \" + str(publish_count))\n",
    "        else:\n",
    "            print(\"Unable to publish data, process failed with a status code: \" + str(status_code))\n",
    "        time.sleep(data_frequency)\n",
    "        clear_output(wait=True)"
   ]
  },
  {
   "cell_type": "code",
   "execution_count": null,
   "id": "64446144",
   "metadata": {},
   "outputs": [
    {
     "name": "stdout",
     "output_type": "stream",
     "text": [
      "{\n",
      "   \"m2m:cin\" : {\n",
      "      \"rn\" : \"cin_229284648\",\n",
      "      \"ty\" : 4,\n",
      "      \"ri\" : \"/in-cse/cin-229284648\",\n",
      "      \"pi\" : \"/in-cse/cnt-717746639\",\n",
      "      \"ct\" : \"20230312T201310\",\n",
      "      \"lt\" : \"20230312T201310\",\n",
      "      \"lbl\" : [ \"Node-1\" ],\n",
      "      \"st\" : 0,\n",
      "      \"cnf\" : \"text\",\n",
      "      \"cs\" : 20,\n",
      "      \"con\" : \"[1678632190, 0, 159]\"\n",
      "   }\n",
      "}\n",
      "Data publishing at 0.1-second frequency\n",
      "Publish Successful\n",
      "Number of data point published = 62071\n"
     ]
    }
   ],
   "source": [
    "run()"
   ]
  }
 ],
 "metadata": {
  "kernelspec": {
   "display_name": "Python 3 (ipykernel)",
   "language": "python",
   "name": "python3"
  },
  "language_info": {
   "codemirror_mode": {
    "name": "ipython",
    "version": 3
   },
   "file_extension": ".py",
   "mimetype": "text/x-python",
   "name": "python",
   "nbconvert_exporter": "python",
   "pygments_lexer": "ipython3",
   "version": "3.10.6"
  }
 },
 "nbformat": 4,
 "nbformat_minor": 5
}
